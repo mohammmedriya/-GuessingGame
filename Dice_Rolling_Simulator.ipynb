{
  "nbformat": 4,
  "nbformat_minor": 0,
  "metadata": {
    "colab": {
      "provenance": [],
      "include_colab_link": true
    },
    "kernelspec": {
      "name": "python3",
      "display_name": "Python 3"
    }
  },
  "cells": [
    {
      "cell_type": "markdown",
      "metadata": {
        "id": "view-in-github",
        "colab_type": "text"
      },
      "source": [
        "<a href=\"https://colab.research.google.com/github/mohammmedriya/-GuessingGame/blob/main/Dice_Rolling_Simulator.ipynb\" target=\"_parent\"><img src=\"https://colab.research.google.com/assets/colab-badge.svg\" alt=\"Open In Colab\"/></a>"
      ]
    },
    {
      "cell_type": "code",
      "metadata": {
        "id": "Q24NyvRlqGuJ",
        "colab": {
          "base_uri": "https://localhost:8080/"
        },
        "outputId": "b6c1c311-51fc-4e7e-ff3d-b22d7b38c62b"
      },
      "source": [
        "import random\n",
        "min = 1\n",
        "max = 6\n",
        "\n",
        "\n",
        "roll_again = 'yes'\n",
        "\n",
        "while roll_again == 'yes' or roll_again == 'y':\n",
        "  print('Rolling the dice. . .')\n",
        "  print('The values are . . .')\n",
        "  print(random.randint(min, max))\n",
        "  print(random.randint(min, max))\n",
        "\n",
        "  roll_again = input('Do you want to roll the dice again? ')"
      ],
      "execution_count": 1,
      "outputs": [
        {
          "name": "stdout",
          "output_type": "stream",
          "text": [
            "Rolling the dice. . .\n",
            "The values are . . .\n",
            "5\n",
            "6\n",
            "Do you want to roll the dice again? 5\n"
          ]
        }
      ]
    }
  ]
}